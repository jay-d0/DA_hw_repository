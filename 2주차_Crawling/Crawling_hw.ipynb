{
 "cells": [
  {
   "cell_type": "code",
   "execution_count": 1,
   "metadata": {},
   "outputs": [],
   "source": [
    "from selenium import webdriver\n",
    "from selenium.webdriver.chrome.service import Service as ChromeService\n",
    "from webdriver_manager.chrome import ChromeDriverManager\n",
    "from selenium.webdriver.common.by import By\n",
    "\n",
    "import pandas as pd"
   ]
  },
  {
   "cell_type": "code",
   "execution_count": 2,
   "metadata": {},
   "outputs": [
    {
     "name": "stdout",
     "output_type": "stream",
     "text": [
      "\n"
     ]
    }
   ],
   "source": [
    "driver = webdriver.Chrome(service=ChromeService(ChromeDriverManager().install()))\n",
    "selector = \"div.reviewInfoBot.origin > div.review_cont\"\n",
    "\n",
    "review_lst = list()\n",
    "for i in range(12):\n",
    "    driver.get(f\"http://www.yes24.com/product/communityModules/GoodsReviewList/110791050?Sort=1&PageNumber={i}&Type=ALL\")\n",
    "    driver.implicitly_wait(10)\n",
    "\n",
    "    datas = driver.find_elements(By.CSS_SELECTOR, selector)\n",
    "    for data in datas:\n",
    "        review_lst.append(data.text)\n",
    "driver.close()\n",
    "\n",
    "review_df = pd.DataFrame(review_lst, columns=['full_review'])\n",
    "review_df.to_excel(\"review.xlsx\", index=False)"
   ]
  }
 ],
 "metadata": {
  "kernelspec": {
   "display_name": "Python 3.10.3 64-bit",
   "language": "python",
   "name": "python3"
  },
  "language_info": {
   "codemirror_mode": {
    "name": "ipython",
    "version": 3
   },
   "file_extension": ".py",
   "mimetype": "text/x-python",
   "name": "python",
   "nbconvert_exporter": "python",
   "pygments_lexer": "ipython3",
   "version": "3.10.3"
  },
  "orig_nbformat": 4,
  "vscode": {
   "interpreter": {
    "hash": "7d85108b9861ac7077bfed9cee5e8ef13b0aad40c4044d1a4f7690be511967b0"
   }
  }
 },
 "nbformat": 4,
 "nbformat_minor": 2
}
