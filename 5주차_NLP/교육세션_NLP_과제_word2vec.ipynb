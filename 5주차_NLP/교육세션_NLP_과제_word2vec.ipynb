{
  "cells": [
    {
      "cell_type": "code",
      "execution_count": 1,
      "metadata": {
        "id": "_hVldYEku5rX"
      },
      "outputs": [],
      "source": [
        "import pandas as pd\n",
        "import matplotlib.pyplot as plt\n",
        "import urllib.request\n",
        "from gensim.models.word2vec import Word2Vec\n",
        "from konlpy.tag import Okt"
      ]
    },
    {
      "cell_type": "code",
      "execution_count": 2,
      "metadata": {
        "id": "VFB2VRIwZQSV"
      },
      "outputs": [
        {
          "data": {
            "text/html": [
              "<div>\n",
              "<style scoped>\n",
              "    .dataframe tbody tr th:only-of-type {\n",
              "        vertical-align: middle;\n",
              "    }\n",
              "\n",
              "    .dataframe tbody tr th {\n",
              "        vertical-align: top;\n",
              "    }\n",
              "\n",
              "    .dataframe thead th {\n",
              "        text-align: right;\n",
              "    }\n",
              "</style>\n",
              "<table border=\"1\" class=\"dataframe\">\n",
              "  <thead>\n",
              "    <tr style=\"text-align: right;\">\n",
              "      <th></th>\n",
              "      <th>id</th>\n",
              "      <th>document</th>\n",
              "      <th>label</th>\n",
              "    </tr>\n",
              "  </thead>\n",
              "  <tbody>\n",
              "    <tr>\n",
              "      <th>0</th>\n",
              "      <td>8112052</td>\n",
              "      <td>어릴때보고 지금다시봐도 재밌어요ㅋㅋ</td>\n",
              "      <td>1</td>\n",
              "    </tr>\n",
              "    <tr>\n",
              "      <th>1</th>\n",
              "      <td>8132799</td>\n",
              "      <td>디자인을 배우는 학생으로, 외국디자이너와 그들이 일군 전통을 통해 발전해가는 문화산...</td>\n",
              "      <td>1</td>\n",
              "    </tr>\n",
              "    <tr>\n",
              "      <th>2</th>\n",
              "      <td>4655635</td>\n",
              "      <td>폴리스스토리 시리즈는 1부터 뉴까지 버릴께 하나도 없음.. 최고.</td>\n",
              "      <td>1</td>\n",
              "    </tr>\n",
              "    <tr>\n",
              "      <th>3</th>\n",
              "      <td>9251303</td>\n",
              "      <td>와.. 연기가 진짜 개쩔구나.. 지루할거라고 생각했는데 몰입해서 봤다.. 그래 이런...</td>\n",
              "      <td>1</td>\n",
              "    </tr>\n",
              "    <tr>\n",
              "      <th>4</th>\n",
              "      <td>10067386</td>\n",
              "      <td>안개 자욱한 밤하늘에 떠 있는 초승달 같은 영화.</td>\n",
              "      <td>1</td>\n",
              "    </tr>\n",
              "    <tr>\n",
              "      <th>...</th>\n",
              "      <td>...</td>\n",
              "      <td>...</td>\n",
              "      <td>...</td>\n",
              "    </tr>\n",
              "    <tr>\n",
              "      <th>199995</th>\n",
              "      <td>8963373</td>\n",
              "      <td>포켓 몬스터 짜가 ㅡㅡ;;</td>\n",
              "      <td>0</td>\n",
              "    </tr>\n",
              "    <tr>\n",
              "      <th>199996</th>\n",
              "      <td>3302770</td>\n",
              "      <td>쓰.레.기</td>\n",
              "      <td>0</td>\n",
              "    </tr>\n",
              "    <tr>\n",
              "      <th>199997</th>\n",
              "      <td>5458175</td>\n",
              "      <td>완전 사이코영화. 마지막은 더욱더 이 영화의질을 떨어트린다.</td>\n",
              "      <td>0</td>\n",
              "    </tr>\n",
              "    <tr>\n",
              "      <th>199998</th>\n",
              "      <td>6908648</td>\n",
              "      <td>왜난 재미없었지 ㅠㅠ 라따뚜이 보고나서 스머프 봐서 그런가 ㅋㅋ</td>\n",
              "      <td>0</td>\n",
              "    </tr>\n",
              "    <tr>\n",
              "      <th>199999</th>\n",
              "      <td>8548411</td>\n",
              "      <td>포풍저그가나가신다영차영차영차</td>\n",
              "      <td>0</td>\n",
              "    </tr>\n",
              "  </tbody>\n",
              "</table>\n",
              "<p>200000 rows × 3 columns</p>\n",
              "</div>"
            ],
            "text/plain": [
              "              id                                           document  label\n",
              "0        8112052                                어릴때보고 지금다시봐도 재밌어요ㅋㅋ      1\n",
              "1        8132799  디자인을 배우는 학생으로, 외국디자이너와 그들이 일군 전통을 통해 발전해가는 문화산...      1\n",
              "2        4655635               폴리스스토리 시리즈는 1부터 뉴까지 버릴께 하나도 없음.. 최고.      1\n",
              "3        9251303  와.. 연기가 진짜 개쩔구나.. 지루할거라고 생각했는데 몰입해서 봤다.. 그래 이런...      1\n",
              "4       10067386                        안개 자욱한 밤하늘에 떠 있는 초승달 같은 영화.      1\n",
              "...          ...                                                ...    ...\n",
              "199995   8963373                                     포켓 몬스터 짜가 ㅡㅡ;;      0\n",
              "199996   3302770                                              쓰.레.기      0\n",
              "199997   5458175                  완전 사이코영화. 마지막은 더욱더 이 영화의질을 떨어트린다.      0\n",
              "199998   6908648                왜난 재미없었지 ㅠㅠ 라따뚜이 보고나서 스머프 봐서 그런가 ㅋㅋ      0\n",
              "199999   8548411                                    포풍저그가나가신다영차영차영차      0\n",
              "\n",
              "[200000 rows x 3 columns]"
            ]
          },
          "metadata": {},
          "output_type": "display_data"
        }
      ],
      "source": [
        "#네이버 영화 리뷰 크롤링 데이터 다운\n",
        "urllib.request.urlretrieve(\"https://raw.githubusercontent.com/e9t/nsmc/master/ratings.txt\", filename=\"ratings.txt\")\n",
        "reviews = pd.read_table('ratings.txt')\n",
        "display(reviews)"
      ]
    },
    {
      "cell_type": "code",
      "execution_count": 3,
      "metadata": {
        "id": "88yftoyXdwJK"
      },
      "outputs": [
        {
          "data": {
            "text/html": [
              "<div>\n",
              "<style scoped>\n",
              "    .dataframe tbody tr th:only-of-type {\n",
              "        vertical-align: middle;\n",
              "    }\n",
              "\n",
              "    .dataframe tbody tr th {\n",
              "        vertical-align: top;\n",
              "    }\n",
              "\n",
              "    .dataframe thead th {\n",
              "        text-align: right;\n",
              "    }\n",
              "</style>\n",
              "<table border=\"1\" class=\"dataframe\">\n",
              "  <thead>\n",
              "    <tr style=\"text-align: right;\">\n",
              "      <th></th>\n",
              "      <th>id</th>\n",
              "      <th>document</th>\n",
              "      <th>label</th>\n",
              "    </tr>\n",
              "  </thead>\n",
              "  <tbody>\n",
              "    <tr>\n",
              "      <th>180481</th>\n",
              "      <td>10066608</td>\n",
              "      <td>9점대 영화는 아니고 7점 정도 될 영화라 생각하기에 평점 조절</td>\n",
              "      <td>0</td>\n",
              "    </tr>\n",
              "    <tr>\n",
              "      <th>8971</th>\n",
              "      <td>7458638</td>\n",
              "      <td>잔 모로의 마력!</td>\n",
              "      <td>1</td>\n",
              "    </tr>\n",
              "    <tr>\n",
              "      <th>77027</th>\n",
              "      <td>9764118</td>\n",
              "      <td>왜요 이영화가 뭔 죄가있다고</td>\n",
              "      <td>1</td>\n",
              "    </tr>\n",
              "    <tr>\n",
              "      <th>21656</th>\n",
              "      <td>9792714</td>\n",
              "      <td>ㅋㅋ지금 롤러코스터보는데ㅋㅋ땅콩 나오고 욕설 나오고 뭔가 시기가 지금 나왔으면 재미...</td>\n",
              "      <td>1</td>\n",
              "    </tr>\n",
              "    <tr>\n",
              "      <th>58303</th>\n",
              "      <td>9769907</td>\n",
              "      <td>버지니아가 데이빗과 클레어를 자유롭게 해주었다.</td>\n",
              "      <td>1</td>\n",
              "    </tr>\n",
              "    <tr>\n",
              "      <th>...</th>\n",
              "      <td>...</td>\n",
              "      <td>...</td>\n",
              "      <td>...</td>\n",
              "    </tr>\n",
              "    <tr>\n",
              "      <th>76483</th>\n",
              "      <td>274375</td>\n",
              "      <td>\"유산\"을 쉽게 생각하는 우리사회사람들을 지적하는 영화</td>\n",
              "      <td>1</td>\n",
              "    </tr>\n",
              "    <tr>\n",
              "      <th>76413</th>\n",
              "      <td>2415894</td>\n",
              "      <td>정말 동화속이야기 왠지 상상하게된달까? 재밌게 보았씁니다</td>\n",
              "      <td>1</td>\n",
              "    </tr>\n",
              "    <tr>\n",
              "      <th>196175</th>\n",
              "      <td>4753200</td>\n",
              "      <td>흠................ 이건 진짜 아니야!</td>\n",
              "      <td>0</td>\n",
              "    </tr>\n",
              "    <tr>\n",
              "      <th>160592</th>\n",
              "      <td>7416398</td>\n",
              "      <td>느와르에 먹칠을 해주었네</td>\n",
              "      <td>0</td>\n",
              "    </tr>\n",
              "    <tr>\n",
              "      <th>171793</th>\n",
              "      <td>5468292</td>\n",
              "      <td>너무 썰렁한 영화</td>\n",
              "      <td>0</td>\n",
              "    </tr>\n",
              "  </tbody>\n",
              "</table>\n",
              "<p>100000 rows × 3 columns</p>\n",
              "</div>"
            ],
            "text/plain": [
              "              id                                           document  label\n",
              "180481  10066608                9점대 영화는 아니고 7점 정도 될 영화라 생각하기에 평점 조절      0\n",
              "8971     7458638                                          잔 모로의 마력!      1\n",
              "77027    9764118                                    왜요 이영화가 뭔 죄가있다고      1\n",
              "21656    9792714  ㅋㅋ지금 롤러코스터보는데ㅋㅋ땅콩 나오고 욕설 나오고 뭔가 시기가 지금 나왔으면 재미...      1\n",
              "58303    9769907                         버지니아가 데이빗과 클레어를 자유롭게 해주었다.      1\n",
              "...          ...                                                ...    ...\n",
              "76483     274375                     \"유산\"을 쉽게 생각하는 우리사회사람들을 지적하는 영화      1\n",
              "76413    2415894                    정말 동화속이야기 왠지 상상하게된달까? 재밌게 보았씁니다      1\n",
              "196175   4753200                       흠................ 이건 진짜 아니야!      0\n",
              "160592   7416398                                      느와르에 먹칠을 해주었네      0\n",
              "171793   5468292                                          너무 썰렁한 영화      0\n",
              "\n",
              "[100000 rows x 3 columns]"
            ]
          },
          "execution_count": 3,
          "metadata": {},
          "output_type": "execute_result"
        }
      ],
      "source": [
        "# 빠른 토큰화를 위해 데이터셋 크기를 절반으로 줄여주겠습니다\n",
        "reviews = reviews.sample(n=100000,axis = 0,random_state = 100)\n",
        "reviews"
      ]
    },
    {
      "cell_type": "code",
      "execution_count": 4,
      "metadata": {
        "id": "MR8Ekv5FZbXO"
      },
      "outputs": [
        {
          "name": "stdout",
          "output_type": "stream",
          "text": [
            "결측치 갯수 확인 \n",
            " id          0\n",
            "document    3\n",
            "label       0\n",
            "dtype: int64\n"
          ]
        }
      ],
      "source": [
        "print('결측치 갯수 확인 \\n',reviews.isnull().sum())"
      ]
    },
    {
      "cell_type": "code",
      "execution_count": 5,
      "metadata": {
        "id": "tF3_WtSCZdsv"
      },
      "outputs": [
        {
          "name": "stdout",
          "output_type": "stream",
          "text": [
            "결측치 갯수 확인 \n",
            " id          0\n",
            "document    0\n",
            "label       0\n",
            "dtype: int64\n"
          ]
        }
      ],
      "source": [
        "reviews = reviews.dropna(how = 'any')\n",
        "print('결측치 갯수 확인 \\n',reviews.isnull().sum())"
      ]
    },
    {
      "cell_type": "code",
      "execution_count": 6,
      "metadata": {
        "id": "0xNWsWluZgIe"
      },
      "outputs": [
        {
          "name": "stdout",
          "output_type": "stream",
          "text": [
            "99997\n"
          ]
        }
      ],
      "source": [
        "print(len(reviews))"
      ]
    },
    {
      "cell_type": "code",
      "execution_count": 7,
      "metadata": {
        "id": "pxLNRGs8ZikD"
      },
      "outputs": [
        {
          "name": "stderr",
          "output_type": "stream",
          "text": [
            "C:\\Users\\kdo71\\AppData\\Local\\Temp\\ipykernel_9288\\3194670001.py:2: FutureWarning: The default value of regex will change from True to False in a future version.\n",
            "  reviews['document'] = reviews['document'].str.replace(\"[^ㄱ-ㅎㅏ-ㅣ가-힣 ]\",\"\")\n",
            "C:\\Users\\kdo71\\AppData\\Local\\Temp\\ipykernel_9288\\3194670001.py:2: SettingWithCopyWarning: \n",
            "A value is trying to be set on a copy of a slice from a DataFrame.\n",
            "Try using .loc[row_indexer,col_indexer] = value instead\n",
            "\n",
            "See the caveats in the documentation: https://pandas.pydata.org/pandas-docs/stable/user_guide/indexing.html#returning-a-view-versus-a-copy\n",
            "  reviews['document'] = reviews['document'].str.replace(\"[^ㄱ-ㅎㅏ-ㅣ가-힣 ]\",\"\")\n"
          ]
        },
        {
          "data": {
            "text/html": [
              "<div>\n",
              "<style scoped>\n",
              "    .dataframe tbody tr th:only-of-type {\n",
              "        vertical-align: middle;\n",
              "    }\n",
              "\n",
              "    .dataframe tbody tr th {\n",
              "        vertical-align: top;\n",
              "    }\n",
              "\n",
              "    .dataframe thead th {\n",
              "        text-align: right;\n",
              "    }\n",
              "</style>\n",
              "<table border=\"1\" class=\"dataframe\">\n",
              "  <thead>\n",
              "    <tr style=\"text-align: right;\">\n",
              "      <th></th>\n",
              "      <th>id</th>\n",
              "      <th>document</th>\n",
              "      <th>label</th>\n",
              "    </tr>\n",
              "  </thead>\n",
              "  <tbody>\n",
              "    <tr>\n",
              "      <th>180481</th>\n",
              "      <td>10066608</td>\n",
              "      <td>점대 영화는 아니고 점 정도 될 영화라 생각하기에 평점 조절</td>\n",
              "      <td>0</td>\n",
              "    </tr>\n",
              "    <tr>\n",
              "      <th>8971</th>\n",
              "      <td>7458638</td>\n",
              "      <td>잔 모로의 마력</td>\n",
              "      <td>1</td>\n",
              "    </tr>\n",
              "    <tr>\n",
              "      <th>77027</th>\n",
              "      <td>9764118</td>\n",
              "      <td>왜요 이영화가 뭔 죄가있다고</td>\n",
              "      <td>1</td>\n",
              "    </tr>\n",
              "    <tr>\n",
              "      <th>21656</th>\n",
              "      <td>9792714</td>\n",
              "      <td>ㅋㅋ지금 롤러코스터보는데ㅋㅋ땅콩 나오고 욕설 나오고 뭔가 시기가 지금 나왔으면 재미...</td>\n",
              "      <td>1</td>\n",
              "    </tr>\n",
              "    <tr>\n",
              "      <th>58303</th>\n",
              "      <td>9769907</td>\n",
              "      <td>버지니아가 데이빗과 클레어를 자유롭게 해주었다</td>\n",
              "      <td>1</td>\n",
              "    </tr>\n",
              "    <tr>\n",
              "      <th>...</th>\n",
              "      <td>...</td>\n",
              "      <td>...</td>\n",
              "      <td>...</td>\n",
              "    </tr>\n",
              "    <tr>\n",
              "      <th>76483</th>\n",
              "      <td>274375</td>\n",
              "      <td>유산을 쉽게 생각하는 우리사회사람들을 지적하는 영화</td>\n",
              "      <td>1</td>\n",
              "    </tr>\n",
              "    <tr>\n",
              "      <th>76413</th>\n",
              "      <td>2415894</td>\n",
              "      <td>정말 동화속이야기 왠지 상상하게된달까 재밌게 보았씁니다</td>\n",
              "      <td>1</td>\n",
              "    </tr>\n",
              "    <tr>\n",
              "      <th>196175</th>\n",
              "      <td>4753200</td>\n",
              "      <td>흠 이건 진짜 아니야</td>\n",
              "      <td>0</td>\n",
              "    </tr>\n",
              "    <tr>\n",
              "      <th>160592</th>\n",
              "      <td>7416398</td>\n",
              "      <td>느와르에 먹칠을 해주었네</td>\n",
              "      <td>0</td>\n",
              "    </tr>\n",
              "    <tr>\n",
              "      <th>171793</th>\n",
              "      <td>5468292</td>\n",
              "      <td>너무 썰렁한 영화</td>\n",
              "      <td>0</td>\n",
              "    </tr>\n",
              "  </tbody>\n",
              "</table>\n",
              "<p>99997 rows × 3 columns</p>\n",
              "</div>"
            ],
            "text/plain": [
              "              id                                           document  label\n",
              "180481  10066608                  점대 영화는 아니고 점 정도 될 영화라 생각하기에 평점 조절      0\n",
              "8971     7458638                                           잔 모로의 마력      1\n",
              "77027    9764118                                    왜요 이영화가 뭔 죄가있다고      1\n",
              "21656    9792714  ㅋㅋ지금 롤러코스터보는데ㅋㅋ땅콩 나오고 욕설 나오고 뭔가 시기가 지금 나왔으면 재미...      1\n",
              "58303    9769907                          버지니아가 데이빗과 클레어를 자유롭게 해주었다      1\n",
              "...          ...                                                ...    ...\n",
              "76483     274375                       유산을 쉽게 생각하는 우리사회사람들을 지적하는 영화      1\n",
              "76413    2415894                     정말 동화속이야기 왠지 상상하게된달까 재밌게 보았씁니다      1\n",
              "196175   4753200                                        흠 이건 진짜 아니야      0\n",
              "160592   7416398                                      느와르에 먹칠을 해주었네      0\n",
              "171793   5468292                                          너무 썰렁한 영화      0\n",
              "\n",
              "[99997 rows x 3 columns]"
            ]
          },
          "metadata": {},
          "output_type": "display_data"
        }
      ],
      "source": [
        "# 정규 표현식을 통해 한글 외의 문자를 제거해줍니다\n",
        "reviews['document'] = reviews['document'].str.replace(\"[^ㄱ-ㅎㅏ-ㅣ가-힣 ]\",\"\")\n",
        "display(reviews)"
      ]
    },
    {
      "cell_type": "code",
      "execution_count": 8,
      "metadata": {
        "id": "BgG4rBguZl1H"
      },
      "outputs": [
        {
          "name": "stderr",
          "output_type": "stream",
          "text": [
            "100%|██████████| 99997/99997 [03:55<00:00, 424.30it/s]\n"
          ]
        }
      ],
      "source": [
        "from tqdm import tqdm\n",
        "\n",
        "'''\n",
        "##### TODO 1 #####\n",
        "\n",
        "분석에 무관할 것 같은 불용어들을 직접 선정해 넣어주세요\n",
        "저는 주로 데이터 도메인과 너무 직접적인 단어(ex.영화)를 넣거나,\n",
        "토큰화 찍어보고 쓱쓱 내려본 다음에 눈에 거슬리는 것들을 때려박습니다.\n",
        "이건 연습이니 아무거나 넣으셔도 상관 없습니다!\n",
        "'''\n",
        "stopwords = ['영화', '스토리', '평', '평점',\n",
        "             '감독', '개봉', '추천'\n",
        "            ]\n",
        "\n",
        "file = open('stopwords.txt', encoding=\"UTF-8\")\n",
        "line = file.readline().strip()\n",
        "while line:\n",
        "    stopwords.append(line)\n",
        "    line = file.readline().strip()\n",
        "file.close()\n",
        "\n",
        "# 형태소 분석기 OKT를 사용한 토큰화 작업 (6분 정도 걸려요!)\n",
        "okt = Okt()\n",
        "\n",
        "tokenized_data = []\n",
        "for sentence in tqdm(reviews['document']):\n",
        "    tokenized_sentence = okt.morphs(sentence, stem=True)\n",
        "    stopwords_removed_sentence = [word for word in tokenized_sentence if not word in stopwords] # 불용어 제거\n",
        "    tokenized_data.append(stopwords_removed_sentence)"
      ]
    },
    {
      "cell_type": "code",
      "execution_count": 9,
      "metadata": {
        "id": "62L-bT0Udip0"
      },
      "outputs": [
        {
          "name": "stdout",
          "output_type": "stream",
          "text": [
            "리뷰의 최대 길이 : 65\n",
            "리뷰의 평균 길이 : 9.834165024950748\n"
          ]
        },
        {
          "data": {
            "image/png": "[encoded data removed]",
            "text/plain": [
              "<Figure size 432x288 with 1 Axes>"
            ]
          },
          "metadata": {
            "needs_background": "light"
          },
          "output_type": "display_data"
        }
      ],
      "source": [
        "# 리뷰 길이 분포 확인\n",
        "print('리뷰의 최대 길이 :',max(len(review) for review in tokenized_data))\n",
        "print('리뷰의 평균 길이 :',sum(map(len, tokenized_data))/len(tokenized_data))\n",
        "plt.hist([len(review) for review in tokenized_data], bins=50)\n",
        "plt.xlabel('length of samples')\n",
        "plt.ylabel('number of samples')\n",
        "plt.show()"
      ]
    },
    {
      "cell_type": "code",
      "execution_count": 10,
      "metadata": {
        "id": "r85sDVKqegTq"
      },
      "outputs": [],
      "source": [
        "from gensim.models import Word2Vec\n",
        "\n",
        "'''\n",
        "https://radimrehurek.com/gensim/models/word2vec.html\n",
        "model = Word2Vec(data,                # 리스트 형태의 데이터\n",
        "                 sg=1,                # 0: CBOW, 1: Skip-gram\n",
        "                 vector_size=100,     # 벡터 크기\n",
        "                 window=3,            # 윈도우 크기\n",
        "                 min_count=3,         # 사용할 단어의 최소 빈도(3회 이하 단어는 무시)\n",
        "                 workers=4)           # 동시에 처리할 작업 수(코어 수와 비슷하게 설정)\n",
        "'''\n",
        "\n",
        "model = Word2Vec(sentences = tokenized_data, vector_size = 100, window = 5, min_count = 5, workers = 4, sg = 0)"
      ]
    },
    {
      "cell_type": "code",
      "execution_count": 11,
      "metadata": {
        "id": "-jBOWn5_eion"
      },
      "outputs": [
        {
          "data": {
            "text/plain": [
              "(11211, 100)"
            ]
          },
          "execution_count": 11,
          "metadata": {},
          "output_type": "execute_result"
        }
      ],
      "source": [
        "# 앞의 숫자는 임베딩 된 단어의 갯수, 뒤의 숫자는 각 단어벡터의 크기입니다\n",
        "\n",
        "model.wv.vectors.shape"
      ]
    },
    {
      "cell_type": "code",
      "execution_count": 12,
      "metadata": {
        "id": "jVf5aoNwekQO"
      },
      "outputs": [
        {
          "name": "stdout",
          "output_type": "stream",
          "text": [
            "[('군국', 0.9139347672462463), ('우월', 0.9110431671142578), ('미스터리', 0.9040275812149048), ('조폭', 0.8976482152938843), ('물의', 0.8898518085479736), ('주의', 0.8895280957221985), ('영국', 0.8824189305305481), ('슬래셔', 0.8795466423034668), ('느와르', 0.8749644160270691), ('계', 0.8745468258857727)]\n"
          ]
        }
      ],
      "source": [
        "'''\n",
        "##### TODO 2 #####\n",
        "model.wv.most_similar(단어)는 argument로 들어간 단어와 가장 유사한 단어를 순서대로 보여줍니다.\n",
        "print(model.wv.most_similar(\"\")) 에 적당한 인자를 넣어 해당 단어와 가장 유사한 단어를 확인해보세요.\n",
        "좋아하는 영화배우나 장르를 해도 좋고, 꿀잼 노잼 등과 같은 평가와 관련된 단어도 좋습니다.\n",
        "'''\n",
        "print(model.wv.most_similar(\"범죄\"))"
      ]
    }
  ],
  "metadata": {
    "colab": {
      "collapsed_sections": [],
      "provenance": []
    },
    "kernelspec": {
      "display_name": "Python 3.10.3 64-bit",
      "language": "python",
      "name": "python3"
    },
    "language_info": {
      "codemirror_mode": {
        "name": "ipython",
        "version": 3
      },
      "file_extension": ".py",
      "mimetype": "text/x-python",
      "name": "python",
      "nbconvert_exporter": "python",
      "pygments_lexer": "ipython3",
      "version": "3.10.3"
    },
    "vscode": {
      "interpreter": {
        "hash": "7d85108b9861ac7077bfed9cee5e8ef13b0aad40c4044d1a4f7690be511967b0"
      }
    }
  },
  "nbformat": 4,
  "nbformat_minor": 0
}
