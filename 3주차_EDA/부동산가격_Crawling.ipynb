{
 "cells": [
  {
   "cell_type": "code",
   "execution_count": 1,
   "metadata": {},
   "outputs": [],
   "source": [
    "from selenium import webdriver\n",
    "from selenium.webdriver.chrome.service import Service as ChromeService\n",
    "from webdriver_manager.chrome import ChromeDriverManager\n",
    "from selenium.webdriver.common.by import By\n",
    "from selenium.webdriver.common.keys import Keys\n",
    "from selenium.webdriver import ActionChains\n",
    "\n",
    "import pandas as pd\n",
    "import time\n",
    "\n",
    "def down_scroll_to_last(driver, selector, max_count):\n",
    "    last_height = 0\n",
    "    try_count = 0\n",
    "    scroll_count = 0\n",
    "\n",
    "    if not max_count:\n",
    "        max_count = 100\n",
    "        \n",
    "    while True:\n",
    "        \n",
    "        now_height = driver.execute_script(f'return document.querySelector(\"{selector}\").scrollHeight;')\n",
    "        if last_height == now_height:\n",
    "            if try_count > 10:\n",
    "                break\n",
    "        else:\n",
    "            try_count = 0\n",
    "            scroll_count += 1\n",
    "            if scroll_count > max_count:\n",
    "                break\n",
    "        last_height = now_height\n",
    "        driver.execute_script(f'document.querySelector(\"{selector}\").scrollTo(0,document.querySelector(\"{selector}\").scrollHeight);')\n",
    "        time.sleep(0.5)\n",
    "        try_count += 1"
   ]
  },
  {
   "cell_type": "code",
   "execution_count": 2,
   "metadata": {},
   "outputs": [
    {
     "name": "stdout",
     "output_type": "stream",
     "text": [
      "\n"
     ]
    }
   ],
   "source": [
    "driver = webdriver.Chrome(service=ChromeService(ChromeDriverManager().install()))\n",
    "\n",
    "url_lst = [\n",
    "    \"https://new.land.naver.com/rooms?ms=37.5624965,126.9155239,15&a=APT:OPST:ABYG:OBYG:GM:OR:VL:DDDGG:JWJT:SGJT:HOJT&e=RETAIL&aa=SMALLSPCRENT\",\n",
    "    \"https://new.land.naver.com/rooms?ms=37.5542295,126.9329904,15&a=APT:OPST:ABYG:OBYG:GM:OR:VL:DDDGG:JWJT:SGJT:HOJT&e=RETAIL&aa=SMALLSPCRENT\",\n",
    "    \"https://new.land.naver.com/rooms?ms=37.547076,126.9178199,16&a=APT:OPST:ABYG:OBYG:GM:OR:VL:DDDGG:JWJT:SGJT:HOJT&e=RETAIL&aa=SMALLSPCRENT\",\n",
    "    \"https://new.land.naver.com/rooms?ms=37.5269387,126.8997311,15&a=APT:OPST:ABYG:OBYG:GM:OR:VL:DDDGG:JWJT:SGJT:HOJT&e=RETAIL&aa=SMALLSPCRENT\",\n",
    "    \"https://new.land.naver.com/rooms?ms=37.5360935,126.8979715,15&a=APT:OPST:ABYG:OBYG:GM:OR:VL:DDDGG:JWJT:SGJT:HOJT&e=RETAIL&aa=SMALLSPCRENT\",\n",
    "    \"https://new.land.naver.com/rooms?ms=37.5242499,126.9085716,15&a=APT:OPST:ABYG:OBYG:GM:OR:VL:DDDGG:JWJT:SGJT:HOJT&e=RETAIL&aa=SMALLSPCRENT\",\n",
    "    \"https://new.land.naver.com/rooms?ms=37.5589925,126.9353508,15&a=APT:OPST:ABYG:OBYG:GM:OR:VL:DDDGG:JWJT:SGJT:HOJT&e=RETAIL&aa=SMALLSPCRENT\"\n",
    "]\n",
    "\n",
    "price_lst = list()\n",
    "spec1_lst = list()\n",
    "spec2_lst = list()\n",
    "\n",
    "for url in url_lst:    \n",
    "    driver.get(url)\n",
    "    driver.implicitly_wait(1000)\n",
    "    down_scroll_to_last(driver, \"div.item_list.item_list--article\", 10000)\n",
    "\n",
    "    price_elems = driver.find_elements(By.CSS_SELECTOR, 'div.item_inner span.price')\n",
    "    spec_elems = driver.find_elements(By.CSS_SELECTOR, 'div.info_area p.line span.spec')\n",
    "\n",
    "    for price in price_elems:\n",
    "        price_lst.append(price.text)\n",
    "    for index, spec in enumerate(spec_elems):\n",
    "        if index % 2 == 0:\n",
    "            spec1_lst.append(spec.text)\n",
    "        else:\n",
    "            spec2_lst.append(spec.text)\n",
    "driver.close()\n",
    "\n",
    "pd.DataFrame({\"price\":price_lst, \"spec1\":spec1_lst, \"spec2\":spec2_lst}).to_csv('room_price_spec.csv', index=False)"
   ]
  }
 ],
 "metadata": {
  "kernelspec": {
   "display_name": "Python 3.10.3 64-bit",
   "language": "python",
   "name": "python3"
  },
  "language_info": {
   "codemirror_mode": {
    "name": "ipython",
    "version": 3
   },
   "file_extension": ".py",
   "mimetype": "text/x-python",
   "name": "python",
   "nbconvert_exporter": "python",
   "pygments_lexer": "ipython3",
   "version": "3.10.3"
  },
  "orig_nbformat": 4,
  "vscode": {
   "interpreter": {
    "hash": "7d85108b9861ac7077bfed9cee5e8ef13b0aad40c4044d1a4f7690be511967b0"
   }
  }
 },
 "nbformat": 4,
 "nbformat_minor": 2
}
